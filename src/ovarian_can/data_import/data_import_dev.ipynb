{
 "cells": [
  {
   "cell_type": "code",
   "execution_count": 1,
   "id": "ad31ef45",
   "metadata": {},
   "outputs": [],
   "source": [
    "# data_importの場合\n",
    "from ovarian_can.infrastructure.path_facade.data_import_path_resolver import DataImportPathResolver\n",
    "from ovarian_can.data_import.abstract_path_resolver import AbstractDataImportPathResolver\n",
    "\n",
    "resolver: AbstractDataImportPathResolver = DataImportPathResolver()\n",
    "\n",
    "input_h5_path = resolver.get_input_h5_path()\n",
    "csv_gz_path = resolver.get_cells_csv_gz_path()\n",
    "decompressed_csv_path = resolver.get_decompressed_csv_path()\n",
    "output_path = resolver.get_output_joblib_path()"
   ]
  },
  {
   "cell_type": "code",
   "execution_count": 2,
   "id": "66505491",
   "metadata": {},
   "outputs": [
    {
     "name": "stderr",
     "output_type": "stream",
     "text": [
      "/Users/masaki/ovarian_can/.venv/lib/python3.12/site-packages/leidenalg/VertexPartition.py:388: SyntaxWarning: invalid escape sequence '\\m'\n",
      "  \"\"\" Implements modularity. This quality function is well-defined only for positive edge weights.\n",
      "/Users/masaki/ovarian_can/.venv/lib/python3.12/site-packages/leidenalg/VertexPartition.py:761: SyntaxWarning: invalid escape sequence '\\m'\n",
      "  \"\"\" Implements Reichardt and Bornholdt's Potts model with a configuration null model.\n",
      "/Users/masaki/ovarian_can/.venv/lib/python3.12/site-packages/leidenalg/Optimiser.py:7: SyntaxWarning: invalid escape sequence '\\g'\n",
      "  \"\"\" Class for doing community detection using the Leiden algorithm.\n",
      "/Users/masaki/ovarian_can/.venv/lib/python3.12/site-packages/leidenalg/Optimiser.py:305: SyntaxWarning: invalid escape sequence '\\s'\n",
      "  \"\"\" Optimise the given partitions simultaneously.\n"
     ]
    },
    {
     "name": "stdout",
     "output_type": "stream",
     "text": [
      "AnnData loaded: AnnData object with n_obs × n_vars = 247636 × 480\n",
      "    var: 'gene_ids', 'feature_types', 'genome'\n",
      "Cells dataframe loaded:       cell_id  x_centroid  y_centroid  transcript_counts  \\\n",
      "0  aaaacidg-1  123.689438  802.634216                 49   \n",
      "1  aaaajnee-1  129.189560  813.227417                 31   \n",
      "2  aaaalogb-1  122.865044  774.362549                  6   \n",
      "3  aaabacli-1  136.588470  772.567688                  2   \n",
      "4  aaabbgdg-1  142.446518  828.253662                  3   \n",
      "\n",
      "   control_probe_counts  control_codeword_counts  unassigned_codeword_counts  \\\n",
      "0                     0                        0                           0   \n",
      "1                     0                        0                           0   \n",
      "2                     0                        0                           0   \n",
      "3                     0                        0                           0   \n",
      "4                     0                        0                           0   \n",
      "\n",
      "   deprecated_codeword_counts  total_counts   cell_area  nucleus_area  \n",
      "0                           0            49  186.766257     47.459220  \n",
      "1                           0            31  141.610005     21.675001  \n",
      "2                           0             6  128.559848     15.714376  \n",
      "3                           0             2   83.855159      6.999219  \n",
      "4                           0             3  122.644379      8.128125  \n"
     ]
    }
   ],
   "source": [
    "import scanpy as sc\n",
    "import pandas as pd\n",
    "import joblib\n",
    "import gzip\n",
    "import shutil\n",
    "import os\n",
    "\n",
    "\n",
    "# h5データ読み込み\n",
    "adata = sc.read_10x_h5(input_h5_path)\n",
    "print(\"AnnData loaded:\", adata)\n",
    "\n",
    "# cells.csv.gzを一時的に解凍して読み込み\n",
    "with gzip.open(csv_gz_path, 'rb') as f_in:\n",
    "    with open(decompressed_csv_path, 'wb') as f_out:\n",
    "        shutil.copyfileobj(f_in, f_out)\n",
    "\n",
    "# 解凍されたCSVをDataFrameとして読み込み\n",
    "df_cells = pd.read_csv(decompressed_csv_path)\n",
    "print(\"Cells dataframe loaded:\", df_cells.head())\n",
    "\n",
    "# CSVのcell_idとadata.obs_namesが一致するか検証（安全性確保）\n",
    "assert adata.obs_names.to_list() == df_cells[\"cell_id\"].to_list(), \\\n",
    "       \"Cell IDs do not match between h5 data and cells.csv!\"\n",
    "\n",
    "# adata.obsにCSVからのメタデータをセット\n",
    "df_cells.set_index('cell_id', inplace=True)\n",
    "adata.obs = df_cells.loc[adata.obs_names].copy()\n",
    "\n",
    "# 一時的なファイルを削除\n",
    "os.remove(decompressed_csv_path)\n",
    "\n"
   ]
  },
  {
   "cell_type": "code",
   "execution_count": 3,
   "id": "e6ac0604",
   "metadata": {},
   "outputs": [
    {
     "name": "stdout",
     "output_type": "stream",
     "text": [
      "AnnData object saved to /Users/masaki/ovarian_can/data/interim/xenium_ovarian_cancer_preprocessed.joblib\n"
     ]
    }
   ],
   "source": [
    "joblib.dump(adata, output_path)\n",
    "print(f\"AnnData object saved to {output_path}\")"
   ]
  },
  {
   "cell_type": "code",
   "execution_count": null,
   "id": "02b0bf35",
   "metadata": {},
   "outputs": [],
   "source": []
  }
 ],
 "metadata": {
  "kernelspec": {
   "display_name": ".venv",
   "language": "python",
   "name": "python3"
  },
  "language_info": {
   "codemirror_mode": {
    "name": "ipython",
    "version": 3
   },
   "file_extension": ".py",
   "mimetype": "text/x-python",
   "name": "python",
   "nbconvert_exporter": "python",
   "pygments_lexer": "ipython3",
   "version": "3.12.2"
  }
 },
 "nbformat": 4,
 "nbformat_minor": 5
}
