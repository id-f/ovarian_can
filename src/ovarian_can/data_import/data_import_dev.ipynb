{
 "cells": [
  {
   "cell_type": "code",
   "execution_count": 1,
   "id": "ad31ef45",
   "metadata": {},
   "outputs": [],
   "source": [
    "# data_importの場合\n",
    "from ovarian_can.infrastructure.path_facade.data_import_path_resolver import DataImportPathResolver\n",
    "from ovarian_can.data_import.abstract_path_resolver import AbstractDataImportPathResolver\n",
    "\n",
    "resolver: AbstractDataImportPathResolver = DataImportPathResolver()\n",
    "\n",
    "input_h5_path = resolver.get_input_h5_path()\n",
    "csv_gz_path = resolver.get_cells_csv_gz_path()\n",
    "decompressed_csv_path = resolver.get_decompressed_csv_path()\n",
    "output_path = resolver.get_output_joblib_path()"
   ]
  },
  {
   "cell_type": "code",
   "execution_count": 2,
   "id": "66505491",
   "metadata": {},
   "outputs": [
    {
     "name": "stdout",
     "output_type": "stream",
     "text": [
      "AnnData loaded: AnnData object with n_obs × n_vars = 407124 × 5101\n",
      "    var: 'gene_ids', 'feature_types', 'genome'\n",
      "Cells dataframe loaded:       cell_id  x_centroid   y_centroid  transcript_counts  \\\n",
      "0  aaaaebmm-1  540.864624  4230.247070                303   \n",
      "1  aaaafhpp-1  532.860718  4242.919922                311   \n",
      "2  aaaahcem-1  527.639893  4240.649414                301   \n",
      "3  aaaakeoi-1  534.369263  4234.182617                369   \n",
      "4  aaaalald-1  527.593750  4232.856934                295   \n",
      "\n",
      "   control_probe_counts  genomic_control_counts  control_codeword_counts  \\\n",
      "0                     0                       0                        0   \n",
      "1                     0                       0                        0   \n",
      "2                     0                       0                        0   \n",
      "3                     0                       0                        0   \n",
      "4                     0                       0                        0   \n",
      "\n",
      "   unassigned_codeword_counts  deprecated_codeword_counts  total_counts  \\\n",
      "0                           0                          31           334   \n",
      "1                           0                          28           339   \n",
      "2                           0                          32           333   \n",
      "3                           0                          58           427   \n",
      "4                           0                          47           342   \n",
      "\n",
      "   cell_area  nucleus_area  nucleus_count  \\\n",
      "0  44.659533     31.835157              1   \n",
      "1  57.664533     38.247345              1   \n",
      "2  39.827814     27.590470              1   \n",
      "3  60.870627     38.879533              1   \n",
      "4  50.484689     46.510939              1   \n",
      "\n",
      "                                 segmentation_method  \n",
      "0  Segmented by boundary stain (ATP1A1+CD45+E-Cad...  \n",
      "1  Segmented by boundary stain (ATP1A1+CD45+E-Cad...  \n",
      "2  Segmented by boundary stain (ATP1A1+CD45+E-Cad...  \n",
      "3  Segmented by boundary stain (ATP1A1+CD45+E-Cad...  \n",
      "4  Segmented by boundary stain (ATP1A1+CD45+E-Cad...  \n"
     ]
    }
   ],
   "source": [
    "import scanpy as sc\n",
    "import pandas as pd\n",
    "import joblib\n",
    "import gzip\n",
    "import shutil\n",
    "import os\n",
    "\n",
    "\n",
    "# h5データ読み込み\n",
    "adata = sc.read_10x_h5(input_h5_path)\n",
    "print(\"AnnData loaded:\", adata)\n",
    "\n",
    "# cells.csv.gzを一時的に解凍して読み込み\n",
    "with gzip.open(csv_gz_path, 'rb') as f_in:\n",
    "    with open(decompressed_csv_path, 'wb') as f_out:\n",
    "        shutil.copyfileobj(f_in, f_out)\n",
    "\n",
    "# 解凍されたCSVをDataFrameとして読み込み\n",
    "df_cells = pd.read_csv(decompressed_csv_path)\n",
    "print(\"Cells dataframe loaded:\", df_cells.head())\n",
    "\n",
    "# CSVのcell_idとadata.obs_namesが一致するか検証（安全性確保）\n",
    "assert adata.obs_names.to_list() == df_cells[\"cell_id\"].to_list(), \\\n",
    "       \"Cell IDs do not match between h5 data and cells.csv!\"\n",
    "\n",
    "# adata.obsにCSVからのメタデータをセット\n",
    "df_cells.set_index('cell_id', inplace=True)\n",
    "adata.obs = df_cells.loc[adata.obs_names].copy()\n",
    "\n",
    "# 一時的なファイルを削除\n",
    "os.remove(decompressed_csv_path)\n",
    "\n"
   ]
  },
  {
   "cell_type": "code",
   "execution_count": 3,
   "id": "e6ac0604",
   "metadata": {},
   "outputs": [
    {
     "name": "stdout",
     "output_type": "stream",
     "text": [
      "AnnData object saved to /Users/masaki/ovarian_can/data/interim/xenium_ovarian_cancer_preprocessed.joblib\n"
     ]
    }
   ],
   "source": [
    "joblib.dump(adata, output_path)\n",
    "print(f\"AnnData object saved to {output_path}\")"
   ]
  },
  {
   "cell_type": "code",
   "execution_count": null,
   "id": "02b0bf35",
   "metadata": {},
   "outputs": [],
   "source": []
  }
 ],
 "metadata": {
  "kernelspec": {
   "display_name": ".venv",
   "language": "python",
   "name": "python3"
  },
  "language_info": {
   "codemirror_mode": {
    "name": "ipython",
    "version": 3
   },
   "file_extension": ".py",
   "mimetype": "text/x-python",
   "name": "python",
   "nbconvert_exporter": "python",
   "pygments_lexer": "ipython3",
   "version": "3.10.17"
  }
 },
 "nbformat": 4,
 "nbformat_minor": 5
}
