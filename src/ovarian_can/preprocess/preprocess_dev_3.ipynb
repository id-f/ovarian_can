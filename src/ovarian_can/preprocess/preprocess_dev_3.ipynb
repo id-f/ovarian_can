{
 "cells": [
  {
   "cell_type": "code",
   "execution_count": null,
   "id": "d4060e8c",
   "metadata": {},
   "outputs": [],
   "source": [
    "from ovarian_can.infrastructure.path_facade.preprocess_path_resolver import PreprocessPathResolver\n",
    "from ovarian_can.preprocess.abstract_path_resolver import AbstractPreprocessPathResolver\n",
    "import joblib\n",
    "# DI: 抽象インターフェースを経由してパス取得\n",
    "resolver: AbstractPreprocessPathResolver = PreprocessPathResolver()\n",
    "# input/outputパス取得\n",
    "interm_after_PCA_path = resolver.get_intermediate_after_PCA_path()\n",
    "interm_after_NN_path = resolver.get_intermediate_after_NN_path()\n"
   ]
  },
  {
   "cell_type": "code",
   "execution_count": null,
   "id": "43c1bdc1",
   "metadata": {},
   "outputs": [],
   "source": [
    "# 前処理前のデータを読み込み\n",
    "adata = joblib.load(interm_after_PCA_path)\n",
    "adata"
   ]
  },
  {
   "cell_type": "code",
   "execution_count": null,
   "id": "0a888864",
   "metadata": {},
   "outputs": [],
   "source": [
    "import scanpy as sc\n",
    "# 近傍グラフを作成（クラスタリングの準備）\n",
    "sc.pp.neighbors(adata, n_neighbors=15, n_pcs=20)"
   ]
  },
  {
   "cell_type": "code",
   "execution_count": null,
   "id": "eff52b9d",
   "metadata": {},
   "outputs": [],
   "source": [
    "# クラスタリング（例: Leiden法）\n",
    "sc.tl.leiden(adata, resolution=1)\n",
    "\n",
    "# クラスタリングの結果を確認\n",
    "sc.pl.pca(adata, color='leiden')"
   ]
  },
  {
   "cell_type": "code",
   "execution_count": null,
   "id": "a07f7fcf",
   "metadata": {},
   "outputs": [],
   "source": [
    "# UMAPによる次元削減\n",
    "sc.tl.umap(adata)\n",
    "\n",
    "# UMAPプロット（クラスタリング結果を可視化）\n",
    "sc.pl.umap(adata, color='leiden')"
   ]
  },
  {
   "cell_type": "code",
   "execution_count": null,
   "id": "54b9d73d",
   "metadata": {},
   "outputs": [],
   "source": [
    "joblib.dump(adata, interm_after_NN_path)"
   ]
  },
  {
   "cell_type": "code",
   "execution_count": null,
   "id": "532843e1",
   "metadata": {},
   "outputs": [],
   "source": [
    "# 細胞の座標を確認\n",
    "sc.pl.spatial(adata, color='leiden', spot_size=20, basis='spatial', img=None, coords=['x_centroid', 'y_centroid'])\n"
   ]
  }
 ],
 "metadata": {
  "kernelspec": {
   "display_name": ".venv",
   "language": "python",
   "name": "python3"
  },
  "language_info": {
   "codemirror_mode": {
    "name": "ipython",
    "version": 3
   },
   "file_extension": ".py",
   "mimetype": "text/x-python",
   "name": "python",
   "nbconvert_exporter": "python",
   "pygments_lexer": "ipython3",
   "version": "3.10.17"
  }
 },
 "nbformat": 4,
 "nbformat_minor": 5
}
