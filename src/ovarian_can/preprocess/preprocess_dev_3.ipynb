{
 "cells": [
  {
   "cell_type": "code",
   "execution_count": 2,
   "id": "d4060e8c",
   "metadata": {},
   "outputs": [],
   "source": [
    "from ovarian_can.infrastructure.path_facade.preprocess_path_resolver import PreprocessPathResolver\n",
    "from ovarian_can.preprocess.abstract_path_resolver import AbstractPreprocessPathResolver\n",
    "import joblib\n",
    "# DI: 抽象インターフェースを経由してパス取得\n",
    "resolver: AbstractPreprocessPathResolver = PreprocessPathResolver()\n",
    "# input/outputパス取得\n",
    "interm_after_PCA_path = resolver.get_intermediate_after_PCA_path()\n",
    "interm_after_NN_path = resolver.get_intermediate_after_NN_path()\n"
   ]
  },
  {
   "cell_type": "code",
   "execution_count": 3,
   "id": "43c1bdc1",
   "metadata": {},
   "outputs": [
    {
     "data": {
      "text/plain": [
       "AnnData object with n_obs × n_vars = 228641 × 480\n",
       "    obs: 'x_centroid', 'y_centroid', 'transcript_counts', 'control_probe_counts', 'control_codeword_counts', 'unassigned_codeword_counts', 'deprecated_codeword_counts', 'total_counts', 'cell_area', 'nucleus_area'\n",
       "    var: 'gene_ids', 'feature_types', 'genome'\n",
       "    uns: 'pca'\n",
       "    obsm: 'X_pca'\n",
       "    varm: 'PCs'"
      ]
     },
     "execution_count": 3,
     "metadata": {},
     "output_type": "execute_result"
    }
   ],
   "source": [
    "# 前処理前のデータを読み込み\n",
    "adata = joblib.load(interm_after_PCA_path)\n",
    "adata"
   ]
  },
  {
   "cell_type": "code",
   "execution_count": 4,
   "id": "0a888864",
   "metadata": {},
   "outputs": [
    {
     "name": "stderr",
     "output_type": "stream",
     "text": [
      "/Users/masaki/ovarian_can/.venv/lib/python3.10/site-packages/tqdm/auto.py:21: TqdmWarning: IProgress not found. Please update jupyter and ipywidgets. See https://ipywidgets.readthedocs.io/en/stable/user_install.html\n",
      "  from .autonotebook import tqdm as notebook_tqdm\n"
     ]
    }
   ],
   "source": [
    "import scanpy as sc\n",
    "# 近傍グラフを作成（クラスタリングの準備）\n",
    "sc.pp.neighbors(adata, n_neighbors=15, n_pcs=20)"
   ]
  },
  {
   "cell_type": "code",
   "execution_count": null,
   "id": "eff52b9d",
   "metadata": {},
   "outputs": [
    {
     "name": "stderr",
     "output_type": "stream",
     "text": [
      "/var/folders/1t/0ly2m55j7xv04rjv77fn_zfc0000gn/T/ipykernel_20257/983613018.py:2: FutureWarning: In the future, the default backend for leiden will be igraph instead of leidenalg.\n",
      "\n",
      " To achieve the future defaults please pass: flavor=\"igraph\" and n_iterations=2.  directed must also be False to work with igraph's implementation.\n",
      "  sc.tl.leiden(adata, resolution=1)\n"
     ]
    }
   ],
   "source": [
    "# クラスタリング（例: Leiden法）\n",
    "sc.tl.leiden(adata, resolution=1)\n",
    "\n",
    "# クラスタリングの結果を確認\n",
    "sc.pl.pca(adata, color='leiden')"
   ]
  },
  {
   "cell_type": "code",
   "execution_count": null,
   "id": "a07f7fcf",
   "metadata": {},
   "outputs": [],
   "source": [
    "# UMAPによる次元削減\n",
    "sc.tl.umap(adata)\n",
    "\n",
    "# UMAPプロット（クラスタリング結果を可視化）\n",
    "sc.pl.umap(adata, color='leiden')"
   ]
  },
  {
   "cell_type": "code",
   "execution_count": null,
   "id": "54b9d73d",
   "metadata": {},
   "outputs": [],
   "source": [
    "joblib.dump(adata, interm_after_NN_path)"
   ]
  },
  {
   "cell_type": "code",
   "execution_count": null,
   "id": "532843e1",
   "metadata": {},
   "outputs": [],
   "source": [
    "# 細胞の座標を確認\n",
    "sc.pl.spatial(adata, color='leiden', spot_size=20, basis='spatial', img=None, coords=['x_centroid', 'y_centroid'])\n"
   ]
  }
 ],
 "metadata": {
  "kernelspec": {
   "display_name": ".venv",
   "language": "python",
   "name": "python3"
  },
  "language_info": {
   "codemirror_mode": {
    "name": "ipython",
    "version": 3
   },
   "file_extension": ".py",
   "mimetype": "text/x-python",
   "name": "python",
   "nbconvert_exporter": "python",
   "pygments_lexer": "ipython3",
   "version": "3.10.17"
  }
 },
 "nbformat": 4,
 "nbformat_minor": 5
}
