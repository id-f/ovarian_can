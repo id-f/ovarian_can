{
 "cells": [
  {
   "cell_type": "code",
   "execution_count": null,
   "id": "d4060e8c",
   "metadata": {},
   "outputs": [],
   "source": [
    "from ovarian_can.infrastructure.path_facade.preprocess_path_resolver import PreprocessPathResolver\n",
    "from ovarian_can.preprocess.abstract_path_resolver import AbstractPreprocessPathResolver\n",
    "import joblib\n",
    "# DI: 抽象インターフェースを経由してパス取得\n",
    "resolver: AbstractPreprocessPathResolver = PreprocessPathResolver()\n",
    "# input/outputパス取得\n",
    "intermediate_joblib_path = resolver.get_intermediate_joblib_path()\n",
    "interm_after_PCA_path = resolver.get_intermediate_after_PCA_path()"
   ]
  },
  {
   "cell_type": "code",
   "execution_count": null,
   "id": "e941f082",
   "metadata": {},
   "outputs": [],
   "source": []
  },
  {
   "cell_type": "code",
   "execution_count": null,
   "id": "43c1bdc1",
   "metadata": {},
   "outputs": [],
   "source": [
    "# 前処理前のデータを読み込み\n",
    "adata = joblib.load(intermediate_joblib_path)\n",
    "adata"
   ]
  },
  {
   "cell_type": "code",
   "execution_count": null,
   "id": "1548f7d8",
   "metadata": {},
   "outputs": [],
   "source": [
    "import scanpy as sc \n",
    "# PCAを実施（遺伝子発現パターンの差を捉える）\n",
    "sc.tl.pca(adata, svd_solver='arpack')\n",
    "\n",
    "# PCAの結果をプロットして確認\n",
    "sc.pl.pca(adata)"
   ]
  },
  {
   "cell_type": "code",
   "execution_count": null,
   "id": "92d159d7",
   "metadata": {},
   "outputs": [],
   "source": [
    "joblib.dump(adata, interm_after_PCA_path)"
   ]
  }
 ],
 "metadata": {
  "kernelspec": {
   "display_name": ".venv",
   "language": "python",
   "name": "python3"
  },
  "language_info": {
   "codemirror_mode": {
    "name": "ipython",
    "version": 3
   },
   "file_extension": ".py",
   "mimetype": "text/x-python",
   "name": "python",
   "nbconvert_exporter": "python",
   "pygments_lexer": "ipython3",
   "version": "3.10.17"
  }
 },
 "nbformat": 4,
 "nbformat_minor": 5
}
